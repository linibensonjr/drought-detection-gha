{
 "cells": [
  {
   "cell_type": "code",
   "execution_count": null,
   "metadata": {
    "ExecuteTime": {
     "end_time": "2024-09-25T14:20:04.429040Z",
     "start_time": "2024-09-25T14:20:04.429040Z"
    },
    "collapsed": true
   },
   "outputs": [],
   "source": [
    "import geopandas as gpd\n",
    "import xarray as xr\n",
    "import rasterio\n",
    "import matplotlib.pyplot as plt\n",
    "import numpy as np\n",
    "import pandas as pd\n",
    "import  os\n",
    "import gzip\n",
    "import shutil\n",
    "import glob\n",
    "import rioxarray as rxr"
   ]
  },
  {
   "cell_type": "code",
   "execution_count": 2,
   "metadata": {
    "ExecuteTime": {
     "end_time": "2024-09-25T15:01:48.385888Z",
     "start_time": "2024-09-25T15:01:48.336919Z"
    },
    "collapsed": false
   },
   "outputs": [],
   "source": [
    "# Set data directory\n",
    "data_dir = \"..\\..\\datasets\\et\\lsa_saf\""
   ]
  },
  {
   "cell_type": "code",
   "execution_count": null,
   "metadata": {
    "ExecuteTime": {
     "end_time": "2024-09-25T14:02:21.520634Z",
     "start_time": "2024-09-25T14:02:21.510661Z"
    },
    "collapsed": false
   },
   "outputs": [],
   "source": [
    "# Read AOI vector file\n",
    "\n"
   ]
  },
  {
   "cell_type": "markdown",
   "metadata": {},
   "source": [
    "## Evapotranspiration pre-processing"
   ]
  },
  {
   "cell_type": "markdown",
   "metadata": {},
   "source": [
    "### Read Evapotranspiration file"
   ]
  },
  {
   "cell_type": "code",
   "execution_count": null,
   "metadata": {
    "collapsed": false
   },
   "outputs": [],
   "source": [
    "''''\n",
    "Study period: 2004 - 2024\n",
    "'''\n",
    "# Path to .tif files\n",
    "tif_files = glob.glob(data_dir + \"/*.tif\")\n",
    "\n",
    "# Extract dates\n",
    "dates = [\n",
    "    pd.to_datetime(\n",
    "        os.path.basename(f).split('.')[2] + '.' + os.path.basename(f).split('.')[3].replace('.tif', ''), \n",
    "        format='%Y.%m'\n",
    "    )\n",
    "    for f in tif_files\n",
    "]\n",
    "\n",
    "print(dates)  "
   ]
  }
 ],
 "metadata": {
  "kernelspec": {
   "display_name": "grace-drought-flood",
   "language": "python",
   "name": "python3"
  },
  "language_info": {
   "codemirror_mode": {
    "name": "ipython",
    "version": 3
   },
   "file_extension": ".py",
   "mimetype": "text/x-python",
   "name": "python",
   "nbconvert_exporter": "python",
   "pygments_lexer": "ipython3",
   "version": "3.9.19"
  }
 },
 "nbformat": 4,
 "nbformat_minor": 0
}
