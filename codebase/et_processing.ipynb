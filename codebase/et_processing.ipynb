{
 "cells": [
  {
   "cell_type": "code",
   "execution_count": null,
   "metadata": {
    "ExecuteTime": {
     "end_time": "2024-09-25T14:20:04.429040Z",
     "start_time": "2024-09-25T14:20:04.429040Z"
    },
    "collapsed": true
   },
   "outputs": [],
   "source": [
    "import geopandas as gpd\n",
    "import xarray as xr\n",
    "import rasterio\n",
    "import matplotlib.pyplot as plt\n",
    "import numpy as np\n",
    "import pandas as pd\n",
    "import  os\n",
    "import gzip\n",
    "import shutil\n",
    "import glob\n",
    "import rioxarray as rxr"
   ]
  },
  {
   "cell_type": "code",
   "execution_count": 2,
   "metadata": {
    "ExecuteTime": {
     "end_time": "2024-09-25T15:01:48.385888Z",
     "start_time": "2024-09-25T15:01:48.336919Z"
    },
    "collapsed": false
   },
   "outputs": [],
   "source": [
    "# Set data directory\n",
    "data_dir = \"..\\..\\datasets\\et\\lsa_saf\""
   ]
  },
  {
   "cell_type": "code",
   "execution_count": null,
   "metadata": {
    "ExecuteTime": {
     "end_time": "2024-09-25T14:02:21.520634Z",
     "start_time": "2024-09-25T14:02:21.510661Z"
    },
    "collapsed": false
   },
   "outputs": [],
   "source": [
    "# Read AOI vector file\n",
    "\n"
   ]
  },
  {
   "cell_type": "markdown",
   "metadata": {},
   "source": [
    "## Evapotranspiration pre-processing"
   ]
  },
  {
   "cell_type": "markdown",
   "metadata": {},
   "source": [
    "### Read Evapotranspiration file"
   ]
  },
  {
   "cell_type": "code",
   "execution_count": null,
   "metadata": {
    "collapsed": false
   },
   "outputs": [],
   "source": [
    "''''\n",
    "Study period: 2004 - 2024\n",
    "'''\n",
    "\n",
    "# Find all NetCDF files in the directory\n",
    "all_files = glob.glob(data_dir + '*.nc')\n",
    "\n",
    "# Print the file list\n",
    "all_files"
   ]
  },
  {
   "cell_type": "markdown",
   "metadata": {},
   "source": [
    "#### Open and concatenate the netcdf file"
   ]
  },
  {
   "cell_type": "code",
   "execution_count": null,
   "metadata": {},
   "outputs": [],
   "source": [
    "data_list = []\n",
    "for i in all_files:\n",
    "    data_list.append(xr.open_dataset(i))\n",
    "\n",
    "et_data = xr.concat(data_list, dim='time')\n",
    "et_data"
   ]
  },
  {
   "cell_type": "markdown",
   "metadata": {},
   "source": [
    "#### Climatology - Calculate the anomalies"
   ]
  },
  {
   "cell_type": "code",
   "execution_count": null,
   "metadata": {},
   "outputs": [],
   "source": [
    "# Calculate monthly climatology (mean for each month over the years)\n",
    "et_climatology = et_data.groupby(\"time.month\").mean(\"time\")\n",
    "\n",
    "# Calculate anomalies\n",
    "et_anomalies = et_data.groupby(\"time.month\") - et_climatology\n",
    "\n",
    "# Calculate monthly standard deviation over the years\n",
    "et_std_dev = et_data.groupby(\"time.month\").std(\"time\")\n"
   ]
  },
  {
   "cell_type": "markdown",
   "metadata": {},
   "source": [
    "#### Standadize the anomalies"
   ]
  },
  {
   "cell_type": "code",
   "execution_count": null,
   "metadata": {},
   "outputs": [],
   "source": [
    "# Standardize anomalies (optional)\n",
    "et_standardized = et_anomalies / et_std_dev"
   ]
  },
  {
   "cell_type": "code",
   "execution_count": null,
   "metadata": {},
   "outputs": [],
   "source": [
    "# TODO: Implement fitting marginal distribution to the data"
   ]
  },
  {
   "cell_type": "code",
   "execution_count": null,
   "metadata": {},
   "outputs": [],
   "source": [
    "# TODO: Transform data to uniform margins"
   ]
  }
 ],
 "metadata": {
  "kernelspec": {
   "display_name": "grace-drought-flood",
   "language": "python",
   "name": "python3"
  },
  "language_info": {
   "codemirror_mode": {
    "name": "ipython",
    "version": 3
   },
   "file_extension": ".py",
   "mimetype": "text/x-python",
   "name": "python",
   "nbconvert_exporter": "python",
   "pygments_lexer": "ipython3",
   "version": "3.9.19"
  }
 },
 "nbformat": 4,
 "nbformat_minor": 0
}
